{
 "cells": [
  {
   "cell_type": "code",
   "execution_count": 1,
   "metadata": {},
   "outputs": [],
   "source": [
    "import pandas as pd\n",
    "import numpy as np\n",
    "import pycountry as pyc\n",
    "import regex as re\n",
    "from fuzzywuzzy import fuzz\n",
    "from collections import defaultdict\n",
    "from tqdm import tqdm"
   ]
  },
  {
   "cell_type": "code",
   "execution_count": 2,
   "metadata": {},
   "outputs": [],
   "source": [
    "raw = pd.read_csv('https://raw.githubusercontent.com/rfordatascience/tidytuesday/master/data/2021/2021-05-18/survey.csv')"
   ]
  },
  {
   "cell_type": "code",
   "execution_count": 8,
   "metadata": {},
   "outputs": [
    {
     "data": {
      "text/plain": [
       "(12622,)"
      ]
     },
     "execution_count": 8,
     "metadata": {},
     "output_type": "execute_result"
    }
   ],
   "source": [
    "raw['job_title'].unique().shape"
   ]
  },
  {
   "cell_type": "markdown",
   "metadata": {},
   "source": [
    "## Eliminate (Almost) Empty Columns and rows without industry, education, gender, and race"
   ]
  },
  {
   "cell_type": "code",
   "execution_count": 30,
   "metadata": {},
   "outputs": [
    {
     "data": {
      "text/plain": [
       "timestamp                                   0.000000\n",
       "how_old_are_you                             0.000000\n",
       "industry                                    0.002249\n",
       "job_title                                   0.000000\n",
       "additional_context_on_job_title             0.742185\n",
       "annual_salary                               0.000000\n",
       "other_monetary_comp                         0.258654\n",
       "currency                                    0.000000\n",
       "currency_other                              0.993672\n",
       "additional_context_on_income                0.890515\n",
       "country                                     0.000000\n",
       "state                                       0.178675\n",
       "city                                        0.002973\n",
       "overall_years_of_professional_experience    0.000000\n",
       "years_of_experience_in_field                0.000000\n",
       "highest_level_of_education_completed        0.007472\n",
       "gender                                      0.005642\n",
       "race                                        0.005566\n",
       "dtype: float64"
      ]
     },
     "execution_count": 30,
     "metadata": {},
     "output_type": "execute_result"
    }
   ],
   "source": [
    "nullity = raw.isna().sum()/raw.shape[0]\n",
    "nullity"
   ]
  },
  {
   "cell_type": "code",
   "execution_count": 31,
   "metadata": {},
   "outputs": [],
   "source": [
    "dropped_cols = list(nullity[nullity>.7].index)\n",
    "cleaned = raw.drop(columns=dropped_cols + ['timestamp', 'gender', 'race'])\n",
    "cleaned.drop(cleaned.index[(cleaned['industry'].isna()) | (cleaned['gender'].isna()) | (cleaned['race'].isna()) | (cleaned['highest_level_of_education_completed'].isna())], inplace=True)"
   ]
  },
  {
   "cell_type": "markdown",
   "metadata": {},
   "source": [
    "## Fixing Country of Origin"
   ]
  },
  {
   "cell_type": "code",
   "execution_count": 32,
   "metadata": {},
   "outputs": [
    {
     "data": {
      "text/plain": [
       "United States     8894\n",
       "USA               7775\n",
       "US                2427\n",
       "Canada            1515\n",
       "United Kingdom     572\n",
       "                  ... \n",
       "Sri lanka            1\n",
       "Kuwait               1\n",
       "Bangladesh           1\n",
       "Eritrea              1\n",
       "france               1\n",
       "Name: country, Length: 291, dtype: int64"
      ]
     },
     "execution_count": 32,
     "metadata": {},
     "output_type": "execute_result"
    }
   ],
   "source": [
    "cleaned['country'].value_counts()"
   ]
  },
  {
   "cell_type": "code",
   "execution_count": 33,
   "metadata": {},
   "outputs": [],
   "source": [
    "def find_country_name(inp):\n",
    "    inp = re.sub(r\"[-()\\\"#/@;:<>{}`+=~|.!?,]\", \"\", inp)\n",
    "    if pyc.countries.get(name=inp):\n",
    "        return pyc.countries.get(name=inp).alpha_3\n",
    "    elif pyc.countries.get(alpha_2=inp):\n",
    "        return pyc.countries.get(alpha_2=inp).alpha_3\n",
    "    elif pyc.countries.get(alpha_3=inp):\n",
    "        return inp.upper() \n",
    "    elif 'england' in inp.lower() or 'scotland' in inp.lower() or 'uk' in inp.lower():\n",
    "        return 'GBR'\n",
    "    elif 'usa' in inp.lower() or 'america' in inp.lower() or 'us' in inp.lower() or 'united states' in inp.lower() or 'hartford' == inp.lower() or 'san francisco' == inp.lower():\n",
    "        return 'USA'\n",
    "    elif fuzz.ratio('united states', inp.lower()) > 70:\n",
    "        return 'USA'\n",
    "    elif 'remote' in inp.lower():\n",
    "        return 'remote'\n",
    "    elif fuzz.ratio('united kingdom', inp.lower()) > 70 or fuzz.ratio('england', inp.lower()) > 70:\n",
    "        return 'GBR'\n",
    "    elif 'united kingdom' in inp.lower() or 'jersey' in inp.lower():\n",
    "        return 'GBR'\n",
    "    elif fuzz.ratio('canada', inp.lower()) > 70 or 'canada' in inp.lower():\n",
    "        return 'CAD'\n",
    "    elif 'italy' in inp.lower():\n",
    "        return pyc.countries.get(name='italy').alpha_3\n",
    "    elif 'new zealand' in inp.lower():\n",
    "        return pyc.countries.search_fuzzy('new zealand')[0].alpha_3\n",
    "    elif 'catalonia' in inp.lower():\n",
    "        return pyc.countries.get(name='spain').alpha_3\n",
    "    elif 'neder' in inp.lower():\n",
    "        return pyc.countries.get(name='Netherlands').alpha_3\n",
    "    elif 'luxemb' in inp.lower():\n",
    "        return pyc.countries.get(name='luxembourg').alpha_3\n",
    "    elif inp == 'UAE':\n",
    "        return 'ARE'\n",
    "    else:\n",
    "        try:\n",
    "            return pyc.countries.search_fuzzy(inp)[0].alpha_3\n",
    "        except:\n",
    "            return np.NAN"
   ]
  },
  {
   "cell_type": "code",
   "execution_count": 34,
   "metadata": {},
   "outputs": [
    {
     "data": {
      "text/plain": [
       "Country(alpha_2='US', alpha_3='USA', flag='🇺🇸', name='United States', numeric='840', official_name='United States of America')"
      ]
     },
     "execution_count": 34,
     "metadata": {},
     "output_type": "execute_result"
    }
   ],
   "source": [
    "\n",
    "inp = re.sub(r\"[-()\\\"#/@;:<>{}`+=~|.!?,]\", \"\", 'Usa')\n",
    "pyc.countries.get(alpha_3=inp)"
   ]
  },
  {
   "cell_type": "code",
   "execution_count": 35,
   "metadata": {},
   "outputs": [],
   "source": [
    "cleaned['nation'] = cleaned['country'].apply(find_country_name)\n",
    "cleaned.loc[cleaned['country'] == r'$2,175.84/year is deducted for benefits', 'nation'] = 'CAD'\n",
    "cleaned.loc[cleaned['country'].str.contains('I was brought in'), 'nation'] = 'USA'\n",
    "cleaned.loc[cleaned['country'].str.contains('I earn commission'), 'nation'] = 'USA'\n",
    "cleaned.loc[cleaned['country'] == 'Currently finance', 'nation'] = 'USA'\n",
    "cleaned.loc[cleaned['country'] == 'Contracts', 'nation'] = 'USA'\n",
    "cleaned.loc[cleaned['country'] == 'Global', 'nation'] = 'CAD'\n",
    "cleaned.loc[cleaned['country'] == 'International', 'nation'] = 'USA'\n",
    "cleaned.loc[cleaned['country'] == 'UXZ', 'nation'] = 'USA'\n",
    "cleaned.loc[cleaned['country'] == 'United y', 'nation'] = 'USA'\n",
    "cleaned.loc[cleaned['country'] == 'europe', 'nation'] = 'CZE'\n",
    "cleaned.drop(columns=['country'], inplace=True)"
   ]
  },
  {
   "cell_type": "code",
   "execution_count": 36,
   "metadata": {},
   "outputs": [],
   "source": [
    "cleaned.drop(cleaned.index[(cleaned['city'].isna()) & (cleaned['state'].isna())], inplace=True)"
   ]
  },
  {
   "cell_type": "markdown",
   "metadata": {},
   "source": [
    "## Fixing Compensation for Currency Exchange Rates"
   ]
  },
  {
   "cell_type": "code",
   "execution_count": 37,
   "metadata": {},
   "outputs": [],
   "source": [
    "cleaned['total_compensation'] = cleaned['annual_salary'] + cleaned['other_monetary_comp'].fillna(0)\n",
    "cleaned.drop(columns=['annual_salary', 'other_monetary_comp'], inplace=True)"
   ]
  },
  {
   "cell_type": "code",
   "execution_count": 38,
   "metadata": {},
   "outputs": [
    {
     "data": {
      "text/plain": [
       "USD        21478\n",
       "CAD         1529\n",
       "GBP         1487\n",
       "EUR          560\n",
       "AUD/NZD      459\n",
       "Other        129\n",
       "CHF           35\n",
       "SEK           32\n",
       "JPY           21\n",
       "ZAR           13\n",
       "HKD            4\n",
       "Name: currency, dtype: int64"
      ]
     },
     "execution_count": 38,
     "metadata": {},
     "output_type": "execute_result"
    }
   ],
   "source": [
    "cleaned['currency'].value_counts()"
   ]
  },
  {
   "cell_type": "code",
   "execution_count": 39,
   "metadata": {},
   "outputs": [],
   "source": [
    "cleaned.drop(cleaned.index[cleaned['currency'] == 'Other'], inplace=True)"
   ]
  },
  {
   "cell_type": "code",
   "execution_count": 40,
   "metadata": {},
   "outputs": [],
   "source": [
    "def aud_nzd(series):\n",
    "    if series['nation'] == 'AUS':\n",
    "        return 'AUD'\n",
    "    if series['nation'] == 'NZL':\n",
    "        return 'NZD'\n",
    "    else:\n",
    "        return series['currency'] "
   ]
  },
  {
   "cell_type": "code",
   "execution_count": 41,
   "metadata": {},
   "outputs": [],
   "source": [
    "cleaned['currency'] = cleaned.apply(aud_nzd, axis=1)\n",
    "cleaned.drop(cleaned.index[cleaned['currency']=='AUD/NZD'], inplace=True)"
   ]
  },
  {
   "cell_type": "code",
   "execution_count": 42,
   "metadata": {},
   "outputs": [],
   "source": [
    "# Data from finance.yahoo.com for May 1st, 2021\n",
    "rates = {'USD': 1, 'CAD': 1/1.2078, 'GBP': 1.4180, 'EUR': 1.2190, 'AUD': 1/4.3500, 'NZD': .7243, 'CHF': .9001, 'SEK': 1/8.3094, 'JPY': 1/109.9070, 'ZAR': .069, 'HKD': .13}\n",
    "def get_USD_std(rates, series):\n",
    "    return rates[series['currency']]*series['total_compensation']"
   ]
  },
  {
   "cell_type": "code",
   "execution_count": 43,
   "metadata": {},
   "outputs": [],
   "source": [
    "cleaned['usd_compensation'] = cleaned.apply(lambda x: get_USD_std(rates, x), axis=1)\n",
    "cleaned.drop(columns=['total_compensation'], inplace=True)"
   ]
  },
  {
   "cell_type": "code",
   "execution_count": 44,
   "metadata": {},
   "outputs": [
    {
     "data": {
      "text/html": [
       "<div>\n",
       "<style scoped>\n",
       "    .dataframe tbody tr th:only-of-type {\n",
       "        vertical-align: middle;\n",
       "    }\n",
       "\n",
       "    .dataframe tbody tr th {\n",
       "        vertical-align: top;\n",
       "    }\n",
       "\n",
       "    .dataframe thead th {\n",
       "        text-align: right;\n",
       "    }\n",
       "</style>\n",
       "<table border=\"1\" class=\"dataframe\">\n",
       "  <thead>\n",
       "    <tr style=\"text-align: right;\">\n",
       "      <th></th>\n",
       "      <th>how_old_are_you</th>\n",
       "      <th>industry</th>\n",
       "      <th>job_title</th>\n",
       "      <th>currency</th>\n",
       "      <th>state</th>\n",
       "      <th>city</th>\n",
       "      <th>overall_years_of_professional_experience</th>\n",
       "      <th>years_of_experience_in_field</th>\n",
       "      <th>highest_level_of_education_completed</th>\n",
       "      <th>gender</th>\n",
       "      <th>race</th>\n",
       "      <th>nation</th>\n",
       "      <th>usd_compensation</th>\n",
       "    </tr>\n",
       "  </thead>\n",
       "  <tbody>\n",
       "    <tr>\n",
       "      <th>3605</th>\n",
       "      <td>25-34</td>\n",
       "      <td>Utilities &amp; Telecommunications</td>\n",
       "      <td>Operations Manager</td>\n",
       "      <td>USD</td>\n",
       "      <td>NaN</td>\n",
       "      <td>Bogota</td>\n",
       "      <td>8 - 10 years</td>\n",
       "      <td>1 year or less</td>\n",
       "      <td>Some college</td>\n",
       "      <td>Man</td>\n",
       "      <td>Hispanic, Latino, or Spanish origin</td>\n",
       "      <td>COL</td>\n",
       "      <td>102000000.0</td>\n",
       "    </tr>\n",
       "  </tbody>\n",
       "</table>\n",
       "</div>"
      ],
      "text/plain": [
       "     how_old_are_you                        industry           job_title  \\\n",
       "3605           25-34  Utilities & Telecommunications  Operations Manager   \n",
       "\n",
       "     currency state    city overall_years_of_professional_experience  \\\n",
       "3605      USD   NaN  Bogota                             8 - 10 years   \n",
       "\n",
       "     years_of_experience_in_field highest_level_of_education_completed gender  \\\n",
       "3605               1 year or less                         Some college    Man   \n",
       "\n",
       "                                     race nation  usd_compensation  \n",
       "3605  Hispanic, Latino, or Spanish origin    COL       102000000.0  "
      ]
     },
     "execution_count": 44,
     "metadata": {},
     "output_type": "execute_result"
    }
   ],
   "source": [
    "cleaned.loc[cleaned.usd_compensation > 5000000]"
   ]
  },
  {
   "cell_type": "markdown",
   "metadata": {},
   "source": [
    "## Gender"
   ]
  },
  {
   "cell_type": "code",
   "execution_count": 45,
   "metadata": {},
   "outputs": [],
   "source": [
    "def get_gender(gender):\n",
    "    if gender == 'Man':\n",
    "        return 'M'\n",
    "    if gender == 'Woman':\n",
    "        return 'F'\n",
    "    else:\n",
    "        return 'Other'\n",
    "cleaned['gender'] = cleaned['gender'].apply(get_gender)"
   ]
  },
  {
   "cell_type": "markdown",
   "metadata": {},
   "source": [
    "## Race"
   ]
  },
  {
   "cell_type": "code",
   "execution_count": 46,
   "metadata": {},
   "outputs": [],
   "source": [
    "def get_race(race):\n",
    "    if ',' in race:\n",
    "        return race.split(',')[0]\n",
    "    return race\n",
    "cleaned['race'] = cleaned['race'].apply(get_race)"
   ]
  },
  {
   "cell_type": "code",
   "execution_count": 47,
   "metadata": {},
   "outputs": [
    {
     "data": {
      "text/plain": [
       "White                                                     21644\n",
       "Asian or Asian American                                    1554\n",
       "Hispanic                                                    876\n",
       "Black or African American                                   770\n",
       "Another option not listed here or prefer not to answer      537\n",
       "Middle Eastern or Northern African                          131\n",
       "Native American or Alaska Native                            104\n",
       "Name: race, dtype: int64"
      ]
     },
     "execution_count": 47,
     "metadata": {},
     "output_type": "execute_result"
    }
   ],
   "source": [
    "cleaned['race'].value_counts()"
   ]
  },
  {
   "cell_type": "markdown",
   "metadata": {},
   "source": [
    "## Industry"
   ]
  },
  {
   "cell_type": "code",
   "execution_count": 48,
   "metadata": {},
   "outputs": [],
   "source": [
    "def make_buckets(df, col, threshold, partial=False):\n",
    "    buckets = defaultdict(list)\n",
    "    word_bank = df[col].unique()\n",
    "    taken = set()\n",
    "    with tqdm(total=len(word_bank)) as pbar:\n",
    "        for word1 in word_bank:\n",
    "            if word1 in taken:\n",
    "                continue\n",
    "            for word2 in word_bank: \n",
    "                if word2 in taken:\n",
    "                    continue\n",
    "                if partial:\n",
    "                    if (fuzz.ratio(word1, word2) > threshold or fuzz.partial_token_set_ratio(word1, word2) > threshold) and word1!=word2 and word2 not in taken:\n",
    "                        buckets[word1].append(word2)\n",
    "                        taken.add(word1)\n",
    "                        taken.add(word2)\n",
    "                else:\n",
    "                    if fuzz.ratio(word1, word2) > threshold and word1!=word2 and word2 not in taken:\n",
    "                        buckets[word1].append(word2)\n",
    "                        taken.add(word1)\n",
    "                        taken.add(word2)\n",
    "            pbar.update(1)\n",
    "    return buckets\n",
    "\n",
    "def replace_names(inp_name, bucket, replace_list):\n",
    "    '''\n",
    "    inp_name: input with apply\n",
    "    bucket: group leader\n",
    "    replace_list: similar words to be replaced\n",
    "    '''\n",
    "    if inp_name in replace_list:\n",
    "        return bucket \n",
    "    else:\n",
    "        return inp_name"
   ]
  },
  {
   "cell_type": "code",
   "execution_count": 49,
   "metadata": {},
   "outputs": [
    {
     "name": "stderr",
     "output_type": "stream",
     "text": [
      " 16%|█▌        | 169/1057 [00:00<00:04, 185.06it/s]\n"
     ]
    }
   ],
   "source": [
    "for word, copy_list in make_buckets(cleaned, 'industry', 70, partial=True).items():\n",
    "    cleaned['industry'] = cleaned['industry'].apply(lambda x: replace_names(x, word, copy_list))"
   ]
  },
  {
   "cell_type": "markdown",
   "metadata": {},
   "source": [
    "## Title"
   ]
  },
  {
   "cell_type": "code",
   "execution_count": 50,
   "metadata": {},
   "outputs": [
    {
     "name": "stderr",
     "output_type": "stream",
     "text": [
      " 86%|████████▌ | 10675/12398 [03:32<00:34, 50.30it/s]\n"
     ]
    }
   ],
   "source": [
    "for word, copy_list in make_buckets(cleaned, 'job_title', 90).items():\n",
    "    cleaned['job_title'] = cleaned['job_title'].apply(lambda x: replace_names(x, word, copy_list))"
   ]
  },
  {
   "cell_type": "markdown",
   "metadata": {},
   "source": [
    "## Final Export"
   ]
  },
  {
   "cell_type": "code",
   "execution_count": 51,
   "metadata": {},
   "outputs": [
    {
     "data": {
      "text/plain": [
       "how_old_are_you                                0\n",
       "industry                                       0\n",
       "job_title                                      0\n",
       "currency                                       0\n",
       "state                                       4429\n",
       "city                                          55\n",
       "overall_years_of_professional_experience       0\n",
       "years_of_experience_in_field                   0\n",
       "highest_level_of_education_completed           0\n",
       "gender                                         0\n",
       "race                                           0\n",
       "nation                                         0\n",
       "usd_compensation                               0\n",
       "dtype: int64"
      ]
     },
     "execution_count": 51,
     "metadata": {},
     "output_type": "execute_result"
    }
   ],
   "source": [
    "cleaned.isna().sum()"
   ]
  },
  {
   "cell_type": "code",
   "execution_count": 52,
   "metadata": {},
   "outputs": [
    {
     "data": {
      "text/html": [
       "<div>\n",
       "<style scoped>\n",
       "    .dataframe tbody tr th:only-of-type {\n",
       "        vertical-align: middle;\n",
       "    }\n",
       "\n",
       "    .dataframe tbody tr th {\n",
       "        vertical-align: top;\n",
       "    }\n",
       "\n",
       "    .dataframe thead th {\n",
       "        text-align: right;\n",
       "    }\n",
       "</style>\n",
       "<table border=\"1\" class=\"dataframe\">\n",
       "  <thead>\n",
       "    <tr style=\"text-align: right;\">\n",
       "      <th></th>\n",
       "      <th>how_old_are_you</th>\n",
       "      <th>industry</th>\n",
       "      <th>job_title</th>\n",
       "      <th>currency</th>\n",
       "      <th>state</th>\n",
       "      <th>city</th>\n",
       "      <th>overall_years_of_professional_experience</th>\n",
       "      <th>years_of_experience_in_field</th>\n",
       "      <th>highest_level_of_education_completed</th>\n",
       "      <th>gender</th>\n",
       "      <th>race</th>\n",
       "      <th>nation</th>\n",
       "      <th>usd_compensation</th>\n",
       "    </tr>\n",
       "  </thead>\n",
       "  <tbody>\n",
       "    <tr>\n",
       "      <th>0</th>\n",
       "      <td>25-34</td>\n",
       "      <td>Education (Higher Education)</td>\n",
       "      <td>Research and Instruction Librarian</td>\n",
       "      <td>USD</td>\n",
       "      <td>Massachusetts</td>\n",
       "      <td>Boston</td>\n",
       "      <td>5-7 years</td>\n",
       "      <td>5-7 years</td>\n",
       "      <td>Master's degree</td>\n",
       "      <td>F</td>\n",
       "      <td>White</td>\n",
       "      <td>USA</td>\n",
       "      <td>55000.0</td>\n",
       "    </tr>\n",
       "    <tr>\n",
       "      <th>1</th>\n",
       "      <td>25-34</td>\n",
       "      <td>Computing or Tech</td>\n",
       "      <td>Change &amp; Internal Communications Manager</td>\n",
       "      <td>GBP</td>\n",
       "      <td>NaN</td>\n",
       "      <td>Cambridge</td>\n",
       "      <td>8 - 10 years</td>\n",
       "      <td>5-7 years</td>\n",
       "      <td>College degree</td>\n",
       "      <td>Other</td>\n",
       "      <td>White</td>\n",
       "      <td>GBR</td>\n",
       "      <td>83094.8</td>\n",
       "    </tr>\n",
       "    <tr>\n",
       "      <th>2</th>\n",
       "      <td>25-34</td>\n",
       "      <td>Accounting, Banking &amp; Finance</td>\n",
       "      <td>Marketing Specialist</td>\n",
       "      <td>USD</td>\n",
       "      <td>Tennessee</td>\n",
       "      <td>Chattanooga</td>\n",
       "      <td>2 - 4 years</td>\n",
       "      <td>2 - 4 years</td>\n",
       "      <td>College degree</td>\n",
       "      <td>F</td>\n",
       "      <td>White</td>\n",
       "      <td>USA</td>\n",
       "      <td>34000.0</td>\n",
       "    </tr>\n",
       "  </tbody>\n",
       "</table>\n",
       "</div>"
      ],
      "text/plain": [
       "  how_old_are_you                       industry  \\\n",
       "0           25-34   Education (Higher Education)   \n",
       "1           25-34              Computing or Tech   \n",
       "2           25-34  Accounting, Banking & Finance   \n",
       "\n",
       "                                  job_title currency          state  \\\n",
       "0        Research and Instruction Librarian      USD  Massachusetts   \n",
       "1  Change & Internal Communications Manager      GBP            NaN   \n",
       "2                      Marketing Specialist      USD      Tennessee   \n",
       "\n",
       "          city overall_years_of_professional_experience  \\\n",
       "0       Boston                                5-7 years   \n",
       "1    Cambridge                             8 - 10 years   \n",
       "2  Chattanooga                              2 - 4 years   \n",
       "\n",
       "  years_of_experience_in_field highest_level_of_education_completed gender  \\\n",
       "0                    5-7 years                      Master's degree      F   \n",
       "1                    5-7 years                       College degree  Other   \n",
       "2                  2 - 4 years                       College degree      F   \n",
       "\n",
       "    race nation  usd_compensation  \n",
       "0  White    USA           55000.0  \n",
       "1  White    GBR           83094.8  \n",
       "2  White    USA           34000.0  "
      ]
     },
     "execution_count": 52,
     "metadata": {},
     "output_type": "execute_result"
    }
   ],
   "source": [
    "cleaned.head(3)"
   ]
  },
  {
   "cell_type": "code",
   "execution_count": 53,
   "metadata": {},
   "outputs": [
    {
     "data": {
      "text/html": [
       "<div>\n",
       "<style scoped>\n",
       "    .dataframe tbody tr th:only-of-type {\n",
       "        vertical-align: middle;\n",
       "    }\n",
       "\n",
       "    .dataframe tbody tr th {\n",
       "        vertical-align: top;\n",
       "    }\n",
       "\n",
       "    .dataframe thead th {\n",
       "        text-align: right;\n",
       "    }\n",
       "</style>\n",
       "<table border=\"1\" class=\"dataframe\">\n",
       "  <thead>\n",
       "    <tr style=\"text-align: right;\">\n",
       "      <th></th>\n",
       "      <th>industry</th>\n",
       "      <th>age_group</th>\n",
       "      <th>title</th>\n",
       "      <th>pay</th>\n",
       "      <th>country</th>\n",
       "      <th>state</th>\n",
       "      <th>city</th>\n",
       "      <th>total_experience</th>\n",
       "      <th>field_experience</th>\n",
       "      <th>education</th>\n",
       "      <th>gender</th>\n",
       "      <th>race</th>\n",
       "    </tr>\n",
       "  </thead>\n",
       "  <tbody>\n",
       "    <tr>\n",
       "      <th>0</th>\n",
       "      <td>Education (Higher Education)</td>\n",
       "      <td>25-34</td>\n",
       "      <td>Research and Instruction Librarian</td>\n",
       "      <td>55000.0</td>\n",
       "      <td>USA</td>\n",
       "      <td>Massachusetts</td>\n",
       "      <td>Boston</td>\n",
       "      <td>5-7 years</td>\n",
       "      <td>5-7 years</td>\n",
       "      <td>Master's degree</td>\n",
       "      <td>F</td>\n",
       "      <td>White</td>\n",
       "    </tr>\n",
       "    <tr>\n",
       "      <th>1</th>\n",
       "      <td>Computing or Tech</td>\n",
       "      <td>25-34</td>\n",
       "      <td>Change &amp; Internal Communications Manager</td>\n",
       "      <td>83094.8</td>\n",
       "      <td>GBR</td>\n",
       "      <td>NaN</td>\n",
       "      <td>Cambridge</td>\n",
       "      <td>8 - 10 years</td>\n",
       "      <td>5-7 years</td>\n",
       "      <td>College degree</td>\n",
       "      <td>Other</td>\n",
       "      <td>White</td>\n",
       "    </tr>\n",
       "    <tr>\n",
       "      <th>2</th>\n",
       "      <td>Accounting, Banking &amp; Finance</td>\n",
       "      <td>25-34</td>\n",
       "      <td>Marketing Specialist</td>\n",
       "      <td>34000.0</td>\n",
       "      <td>USA</td>\n",
       "      <td>Tennessee</td>\n",
       "      <td>Chattanooga</td>\n",
       "      <td>2 - 4 years</td>\n",
       "      <td>2 - 4 years</td>\n",
       "      <td>College degree</td>\n",
       "      <td>F</td>\n",
       "      <td>White</td>\n",
       "    </tr>\n",
       "    <tr>\n",
       "      <th>3</th>\n",
       "      <td>Nonprofits</td>\n",
       "      <td>25-34</td>\n",
       "      <td>Program Manager</td>\n",
       "      <td>65000.0</td>\n",
       "      <td>USA</td>\n",
       "      <td>Wisconsin</td>\n",
       "      <td>Milwaukee</td>\n",
       "      <td>8 - 10 years</td>\n",
       "      <td>5-7 years</td>\n",
       "      <td>College degree</td>\n",
       "      <td>F</td>\n",
       "      <td>White</td>\n",
       "    </tr>\n",
       "    <tr>\n",
       "      <th>4</th>\n",
       "      <td>Accounting, Banking &amp; Finance</td>\n",
       "      <td>25-34</td>\n",
       "      <td>Accounting Manager</td>\n",
       "      <td>67000.0</td>\n",
       "      <td>USA</td>\n",
       "      <td>South Carolina</td>\n",
       "      <td>Greenville</td>\n",
       "      <td>8 - 10 years</td>\n",
       "      <td>5-7 years</td>\n",
       "      <td>College degree</td>\n",
       "      <td>F</td>\n",
       "      <td>White</td>\n",
       "    </tr>\n",
       "  </tbody>\n",
       "</table>\n",
       "</div>"
      ],
      "text/plain": [
       "                        industry age_group  \\\n",
       "0   Education (Higher Education)     25-34   \n",
       "1              Computing or Tech     25-34   \n",
       "2  Accounting, Banking & Finance     25-34   \n",
       "3                     Nonprofits     25-34   \n",
       "4  Accounting, Banking & Finance     25-34   \n",
       "\n",
       "                                      title      pay country           state  \\\n",
       "0        Research and Instruction Librarian  55000.0     USA   Massachusetts   \n",
       "1  Change & Internal Communications Manager  83094.8     GBR             NaN   \n",
       "2                      Marketing Specialist  34000.0     USA       Tennessee   \n",
       "3                           Program Manager  65000.0     USA       Wisconsin   \n",
       "4                        Accounting Manager  67000.0     USA  South Carolina   \n",
       "\n",
       "          city total_experience field_experience        education gender  \\\n",
       "0       Boston        5-7 years        5-7 years  Master's degree      F   \n",
       "1    Cambridge     8 - 10 years        5-7 years   College degree  Other   \n",
       "2  Chattanooga      2 - 4 years      2 - 4 years   College degree      F   \n",
       "3    Milwaukee     8 - 10 years        5-7 years   College degree      F   \n",
       "4   Greenville     8 - 10 years        5-7 years   College degree      F   \n",
       "\n",
       "    race  \n",
       "0  White  \n",
       "1  White  \n",
       "2  White  \n",
       "3  White  \n",
       "4  White  "
      ]
     },
     "execution_count": 53,
     "metadata": {},
     "output_type": "execute_result"
    }
   ],
   "source": [
    "final_cleaned = pd.DataFrame()\n",
    "final_cleaned['industry'] = cleaned['industry']\n",
    "final_cleaned['age_group'] = cleaned['how_old_are_you']\n",
    "final_cleaned['title'] = cleaned['job_title']\n",
    "final_cleaned['pay'] = cleaned['usd_compensation']\n",
    "final_cleaned['country'] = cleaned['nation']\n",
    "final_cleaned['state'] = cleaned['state']\n",
    "final_cleaned['city'] = cleaned['city']\n",
    "final_cleaned['total_experience'] = cleaned['overall_years_of_professional_experience']\n",
    "final_cleaned['field_experience'] = cleaned['years_of_experience_in_field']\n",
    "final_cleaned['education'] = cleaned['highest_level_of_education_completed']\n",
    "final_cleaned['gender'] = cleaned['gender']\n",
    "final_cleaned['race'] = cleaned['race']\n",
    "final_cleaned.to_csv('salary_metadata.csv')\n",
    "final_cleaned.head()"
   ]
  }
 ],
 "metadata": {
  "interpreter": {
   "hash": "916dbcbb3f70747c44a77c7bcd40155683ae19c65e1c03b4aa3499c5328201f1"
  },
  "kernelspec": {
   "display_name": "Python 3.8.10 64-bit",
   "language": "python",
   "name": "python3"
  },
  "language_info": {
   "codemirror_mode": {
    "name": "ipython",
    "version": 3
   },
   "file_extension": ".py",
   "mimetype": "text/x-python",
   "name": "python",
   "nbconvert_exporter": "python",
   "pygments_lexer": "ipython3",
   "version": "3.8.10"
  },
  "orig_nbformat": 4
 },
 "nbformat": 4,
 "nbformat_minor": 2
}
